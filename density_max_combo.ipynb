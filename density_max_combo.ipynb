{
 "cells": [
  {
   "cell_type": "code",
   "execution_count": 1,
   "metadata": {},
   "outputs": [],
   "source": [
    "import oritelib as orite\n",
    "import numpy  as np\n",
    "import matplotlib.pyplot as plt"
   ]
  },
  {
   "cell_type": "code",
   "execution_count": 2,
   "metadata": {},
   "outputs": [],
   "source": [
    "og_seq = orite.seq_from_fasta(\"test_data/exciting_bacteria/Agrobacterium_fabrum_L1_FASTA.fasta\")\n",
    "nc_intervals = orite.genbank_to_non_coding_intervals(\"test_data/exciting_bacteria/Agrobacterium_fabrum_L1_GB.gb\")\n",
    "og_gc, og_cgc = orite.gc_skew_sliding_window(og_seq, 250000)"
   ]
  },
  {
   "cell_type": "code",
   "execution_count": 3,
   "metadata": {},
   "outputs": [
    {
     "name": "stdout",
     "output_type": "stream",
     "text": [
      "inital max gc skew indx 1153538\n",
      "max cgc skew indx 235836\n"
     ]
    }
   ],
   "source": [
    "max_things = orite.max_rotate_seq_and_skew_calc(og_seq, window_radius=250000)"
   ]
  },
  {
   "cell_type": "code",
   "execution_count": 4,
   "metadata": {},
   "outputs": [],
   "source": [
    "max_cg = max_things[0]\n",
    "max_cgc = max_things[1]\n",
    "max_fasta = max_things[2]\n",
    "max_offset = max_things[3]"
   ]
  },
  {
   "cell_type": "code",
   "execution_count": 5,
   "metadata": {},
   "outputs": [],
   "source": [
    "nc_intervals_list =nc_intervals[0]"
   ]
  },
  {
   "cell_type": "code",
   "execution_count": 6,
   "metadata": {},
   "outputs": [],
   "source": [
    "def get_phased_nc_region_list(nc_intervals, og_fasta, max_offset, max_cgc):\n",
    "    nc_objects = orite.nc_intervals_to_nc_objects(nc_intervals, og_fasta)\n",
    "    phased_nc_objects = orite.add_max_relative_position(nc_objects, len(og_fasta), max_offset)\n",
    "    max_scored_nc_objects = orite.calc_score_over_region_list(phased_nc_objects, max_cgc, rotated = True)\n",
    "    return max_scored_nc_objects\n",
    "    "
   ]
  },
  {
   "cell_type": "code",
   "execution_count": 7,
   "metadata": {},
   "outputs": [],
   "source": [
    "x0 = get_phased_nc_region_list(nc_intervals_list, og_seq, max_offset, max_cgc)"
   ]
  },
  {
   "cell_type": "code",
   "execution_count": null,
   "metadata": {},
   "outputs": [],
   "source": []
  },
  {
   "cell_type": "code",
   "execution_count": 8,
   "metadata": {},
   "outputs": [],
   "source": [
    "#nc_region_list = orite.nc_intervals_to_nc_objects(nc_intervals_list)"
   ]
  },
  {
   "cell_type": "code",
   "execution_count": 9,
   "metadata": {},
   "outputs": [
    {
     "data": {
      "text/plain": [
       "2326"
      ]
     },
     "execution_count": 9,
     "metadata": {},
     "output_type": "execute_result"
    }
   ],
   "source": [
    "len(x0)"
   ]
  },
  {
   "cell_type": "code",
   "execution_count": 10,
   "metadata": {},
   "outputs": [
    {
     "data": {
      "text/plain": [
       "2326"
      ]
     },
     "execution_count": 10,
     "metadata": {},
     "output_type": "execute_result"
    }
   ],
   "source": [
    "x1 = orite.get_kmers_from_region_list(x0, [7,8,9])\n",
    "len(x1)"
   ]
  },
  {
   "cell_type": "code",
   "execution_count": 11,
   "metadata": {},
   "outputs": [
    {
     "data": {
      "text/plain": [
       "{7: [('GCGCTAG', [1, 95]),\n",
       "  ('CGCGCTA', [1, 94]),\n",
       "  ('ACGCGCT', [1, 93]),\n",
       "  ('CACGCGC', [1, 92]),\n",
       "  ('CCACGCG', [1, 91]),\n",
       "  ('TCCACGC', [1, 90]),\n",
       "  ('TTCCACG', [1, 89]),\n",
       "  ('ATTCCAC', [1, 88]),\n",
       "  ('CATTCCA', [1, 87]),\n",
       "  ('CCATTCC', [1, 86]),\n",
       "  ('TCCATTC', [1, 85]),\n",
       "  ('ATCCATT', [1, 84]),\n",
       "  ('CATCCAT', [1, 83]),\n",
       "  ('CCATCCA', [1, 82]),\n",
       "  ('GCCATCC', [1, 81]),\n",
       "  ('CGCCATC', [1, 80]),\n",
       "  ('TCGCCAT', [1, 79]),\n",
       "  ('ATCGCCA', [1, 78]),\n",
       "  ('CATCGCC', [1, 77]),\n",
       "  ('TCATCGC', [1, 76]),\n",
       "  ('GTCATCG', [1, 75]),\n",
       "  ('CGTCATC', [1, 74]),\n",
       "  ('GCGTCAT', [1, 73]),\n",
       "  ('CGCGTCA', [1, 72]),\n",
       "  ('TCGCGTC', [1, 71]),\n",
       "  ('ATCGCGT', [1, 70]),\n",
       "  ('GATCGCG', [1, 69]),\n",
       "  ('TGATCGC', [1, 68]),\n",
       "  ('CTGATCG', [1, 67]),\n",
       "  ('CCTGATC', [1, 66]),\n",
       "  ('TCCTGAT', [1, 65]),\n",
       "  ('TTCCTGA', [1, 64]),\n",
       "  ('CTTCCTG', [1, 63]),\n",
       "  ('CCTTCCT', [1, 62]),\n",
       "  ('CCCTTCC', [1, 61]),\n",
       "  ('ACCCTTC', [1, 60]),\n",
       "  ('AACCCTT', [1, 59]),\n",
       "  ('CAACCCT', [1, 58]),\n",
       "  ('ACAACCC', [1, 57]),\n",
       "  ('TACAACC', [1, 56]),\n",
       "  ('TTACAAC', [1, 55]),\n",
       "  ('CTTACAA', [1, 54]),\n",
       "  ('GCTTACA', [1, 53]),\n",
       "  ('GGCTTAC', [1, 52]),\n",
       "  ('GGGCTTA', [1, 51]),\n",
       "  ('GGGGCTT', [1, 50]),\n",
       "  ('CGGGGCT', [1, 49]),\n",
       "  ('CCGGGGC', [1, 48]),\n",
       "  ('CCCGGGG', [1, 47]),\n",
       "  ('ACCCGGG', [1, 46]),\n",
       "  ('GACCCGG', [1, 45]),\n",
       "  ('CGACCCG', [1, 44]),\n",
       "  ('TCGACCC', [1, 43]),\n",
       "  ('TTCGACC', [1, 42]),\n",
       "  ('TTTCGAC', [1, 41]),\n",
       "  ('ATTTCGA', [1, 40]),\n",
       "  ('CATTTCG', [1, 39]),\n",
       "  ('TCATTTC', [1, 38]),\n",
       "  ('ATCATTT', [1, 37]),\n",
       "  ('TATCATT', [1, 36]),\n",
       "  ('CTATCAT', [1, 35]),\n",
       "  ('TCTATCA', [1, 34]),\n",
       "  ('GTCTATC', [1, 33]),\n",
       "  ('GGTCTAT', [1, 32]),\n",
       "  ('CGGTCTA', [1, 31]),\n",
       "  ('GCGGTCT', [1, 30]),\n",
       "  ('GGCGGTC', [1, 29]),\n",
       "  ('AGGCGGT', [1, 28]),\n",
       "  ('AAGGCGG', [1, 27]),\n",
       "  ('GAAGGCG', [1, 26]),\n",
       "  ('GGAAGGC', [1, 25]),\n",
       "  ('TGGAAGG', [1, 24]),\n",
       "  ('GTGGAAG', [1, 23]),\n",
       "  ('CGTGGAA', [1, 22]),\n",
       "  ('TCGTGGA', [1, 21]),\n",
       "  ('TTCGTGG', [1, 20]),\n",
       "  ('ATTCGTG', [1, 19]),\n",
       "  ('AATTCGT', [1, 18]),\n",
       "  ('GAATTCG', [1, 17]),\n",
       "  ('TGAATTC', [1, 16]),\n",
       "  ('GTGAATT', [1, 15]),\n",
       "  ('CGTGAAT', [1, 14]),\n",
       "  ('GCGTGAA', [1, 13]),\n",
       "  ('GGCGTGA', [1, 12]),\n",
       "  ('CGGCGTG', [1, 11]),\n",
       "  ('GCGGCGT', [1, 10]),\n",
       "  ('CGCGGCG', [1, 9]),\n",
       "  ('TCGCGGC', [1, 8]),\n",
       "  ('CTCGCGG', [1, 7]),\n",
       "  ('CCTCGCG', [1, 6]),\n",
       "  ('TCCTCGC', [1, 5]),\n",
       "  ('TTCCTCG', [1, 4]),\n",
       "  ('GTTCCTC', [1, 3]),\n",
       "  ('GGTTCCT', [1, 2]),\n",
       "  ('CGGTTCC', [1, 1]),\n",
       "  ('ACGGTTC', [1, 0])],\n",
       " 8: [('CGCGCTAG', [1, 94]),\n",
       "  ('ACGCGCTA', [1, 93]),\n",
       "  ('CACGCGCT', [1, 92]),\n",
       "  ('CCACGCGC', [1, 91]),\n",
       "  ('TCCACGCG', [1, 90]),\n",
       "  ('TTCCACGC', [1, 89]),\n",
       "  ('ATTCCACG', [1, 88]),\n",
       "  ('CATTCCAC', [1, 87]),\n",
       "  ('CCATTCCA', [1, 86]),\n",
       "  ('TCCATTCC', [1, 85]),\n",
       "  ('ATCCATTC', [1, 84]),\n",
       "  ('CATCCATT', [1, 83]),\n",
       "  ('CCATCCAT', [1, 82]),\n",
       "  ('GCCATCCA', [1, 81]),\n",
       "  ('CGCCATCC', [1, 80]),\n",
       "  ('TCGCCATC', [1, 79]),\n",
       "  ('ATCGCCAT', [1, 78]),\n",
       "  ('CATCGCCA', [1, 77]),\n",
       "  ('TCATCGCC', [1, 76]),\n",
       "  ('GTCATCGC', [1, 75]),\n",
       "  ('CGTCATCG', [1, 74]),\n",
       "  ('GCGTCATC', [1, 73]),\n",
       "  ('CGCGTCAT', [1, 72]),\n",
       "  ('TCGCGTCA', [1, 71]),\n",
       "  ('ATCGCGTC', [1, 70]),\n",
       "  ('GATCGCGT', [1, 69]),\n",
       "  ('TGATCGCG', [1, 68]),\n",
       "  ('CTGATCGC', [1, 67]),\n",
       "  ('CCTGATCG', [1, 66]),\n",
       "  ('TCCTGATC', [1, 65]),\n",
       "  ('TTCCTGAT', [1, 64]),\n",
       "  ('CTTCCTGA', [1, 63]),\n",
       "  ('CCTTCCTG', [1, 62]),\n",
       "  ('CCCTTCCT', [1, 61]),\n",
       "  ('ACCCTTCC', [1, 60]),\n",
       "  ('AACCCTTC', [1, 59]),\n",
       "  ('CAACCCTT', [1, 58]),\n",
       "  ('ACAACCCT', [1, 57]),\n",
       "  ('TACAACCC', [1, 56]),\n",
       "  ('TTACAACC', [1, 55]),\n",
       "  ('CTTACAAC', [1, 54]),\n",
       "  ('GCTTACAA', [1, 53]),\n",
       "  ('GGCTTACA', [1, 52]),\n",
       "  ('GGGCTTAC', [1, 51]),\n",
       "  ('GGGGCTTA', [1, 50]),\n",
       "  ('CGGGGCTT', [1, 49]),\n",
       "  ('CCGGGGCT', [1, 48]),\n",
       "  ('CCCGGGGC', [1, 47]),\n",
       "  ('ACCCGGGG', [1, 46]),\n",
       "  ('GACCCGGG', [1, 45]),\n",
       "  ('CGACCCGG', [1, 44]),\n",
       "  ('TCGACCCG', [1, 43]),\n",
       "  ('TTCGACCC', [1, 42]),\n",
       "  ('TTTCGACC', [1, 41]),\n",
       "  ('ATTTCGAC', [1, 40]),\n",
       "  ('CATTTCGA', [1, 39]),\n",
       "  ('TCATTTCG', [1, 38]),\n",
       "  ('ATCATTTC', [1, 37]),\n",
       "  ('TATCATTT', [1, 36]),\n",
       "  ('CTATCATT', [1, 35]),\n",
       "  ('TCTATCAT', [1, 34]),\n",
       "  ('GTCTATCA', [1, 33]),\n",
       "  ('GGTCTATC', [1, 32]),\n",
       "  ('CGGTCTAT', [1, 31]),\n",
       "  ('GCGGTCTA', [1, 30]),\n",
       "  ('GGCGGTCT', [1, 29]),\n",
       "  ('AGGCGGTC', [1, 28]),\n",
       "  ('AAGGCGGT', [1, 27]),\n",
       "  ('GAAGGCGG', [1, 26]),\n",
       "  ('GGAAGGCG', [1, 25]),\n",
       "  ('TGGAAGGC', [1, 24]),\n",
       "  ('GTGGAAGG', [1, 23]),\n",
       "  ('CGTGGAAG', [1, 22]),\n",
       "  ('TCGTGGAA', [1, 21]),\n",
       "  ('TTCGTGGA', [1, 20]),\n",
       "  ('ATTCGTGG', [1, 19]),\n",
       "  ('AATTCGTG', [1, 18]),\n",
       "  ('GAATTCGT', [1, 17]),\n",
       "  ('TGAATTCG', [1, 16]),\n",
       "  ('GTGAATTC', [1, 15]),\n",
       "  ('CGTGAATT', [1, 14]),\n",
       "  ('GCGTGAAT', [1, 13]),\n",
       "  ('GGCGTGAA', [1, 12]),\n",
       "  ('CGGCGTGA', [1, 11]),\n",
       "  ('GCGGCGTG', [1, 10]),\n",
       "  ('CGCGGCGT', [1, 9]),\n",
       "  ('TCGCGGCG', [1, 8]),\n",
       "  ('CTCGCGGC', [1, 7]),\n",
       "  ('CCTCGCGG', [1, 6]),\n",
       "  ('TCCTCGCG', [1, 5]),\n",
       "  ('TTCCTCGC', [1, 4]),\n",
       "  ('GTTCCTCG', [1, 3]),\n",
       "  ('GGTTCCTC', [1, 2]),\n",
       "  ('CGGTTCCT', [1, 1]),\n",
       "  ('ACGGTTCC', [1, 0])],\n",
       " 9: [('ACGCGCTAG', [1, 93]),\n",
       "  ('CACGCGCTA', [1, 92]),\n",
       "  ('CCACGCGCT', [1, 91]),\n",
       "  ('TCCACGCGC', [1, 90]),\n",
       "  ('TTCCACGCG', [1, 89]),\n",
       "  ('ATTCCACGC', [1, 88]),\n",
       "  ('CATTCCACG', [1, 87]),\n",
       "  ('CCATTCCAC', [1, 86]),\n",
       "  ('TCCATTCCA', [1, 85]),\n",
       "  ('ATCCATTCC', [1, 84]),\n",
       "  ('CATCCATTC', [1, 83]),\n",
       "  ('CCATCCATT', [1, 82]),\n",
       "  ('GCCATCCAT', [1, 81]),\n",
       "  ('CGCCATCCA', [1, 80]),\n",
       "  ('TCGCCATCC', [1, 79]),\n",
       "  ('ATCGCCATC', [1, 78]),\n",
       "  ('CATCGCCAT', [1, 77]),\n",
       "  ('TCATCGCCA', [1, 76]),\n",
       "  ('GTCATCGCC', [1, 75]),\n",
       "  ('CGTCATCGC', [1, 74]),\n",
       "  ('GCGTCATCG', [1, 73]),\n",
       "  ('CGCGTCATC', [1, 72]),\n",
       "  ('TCGCGTCAT', [1, 71]),\n",
       "  ('ATCGCGTCA', [1, 70]),\n",
       "  ('GATCGCGTC', [1, 69]),\n",
       "  ('TGATCGCGT', [1, 68]),\n",
       "  ('CTGATCGCG', [1, 67]),\n",
       "  ('CCTGATCGC', [1, 66]),\n",
       "  ('TCCTGATCG', [1, 65]),\n",
       "  ('TTCCTGATC', [1, 64]),\n",
       "  ('CTTCCTGAT', [1, 63]),\n",
       "  ('CCTTCCTGA', [1, 62]),\n",
       "  ('CCCTTCCTG', [1, 61]),\n",
       "  ('ACCCTTCCT', [1, 60]),\n",
       "  ('AACCCTTCC', [1, 59]),\n",
       "  ('CAACCCTTC', [1, 58]),\n",
       "  ('ACAACCCTT', [1, 57]),\n",
       "  ('TACAACCCT', [1, 56]),\n",
       "  ('TTACAACCC', [1, 55]),\n",
       "  ('CTTACAACC', [1, 54]),\n",
       "  ('GCTTACAAC', [1, 53]),\n",
       "  ('GGCTTACAA', [1, 52]),\n",
       "  ('GGGCTTACA', [1, 51]),\n",
       "  ('GGGGCTTAC', [1, 50]),\n",
       "  ('CGGGGCTTA', [1, 49]),\n",
       "  ('CCGGGGCTT', [1, 48]),\n",
       "  ('CCCGGGGCT', [1, 47]),\n",
       "  ('ACCCGGGGC', [1, 46]),\n",
       "  ('GACCCGGGG', [1, 45]),\n",
       "  ('CGACCCGGG', [1, 44]),\n",
       "  ('TCGACCCGG', [1, 43]),\n",
       "  ('TTCGACCCG', [1, 42]),\n",
       "  ('TTTCGACCC', [1, 41]),\n",
       "  ('ATTTCGACC', [1, 40]),\n",
       "  ('CATTTCGAC', [1, 39]),\n",
       "  ('TCATTTCGA', [1, 38]),\n",
       "  ('ATCATTTCG', [1, 37]),\n",
       "  ('TATCATTTC', [1, 36]),\n",
       "  ('CTATCATTT', [1, 35]),\n",
       "  ('TCTATCATT', [1, 34]),\n",
       "  ('GTCTATCAT', [1, 33]),\n",
       "  ('GGTCTATCA', [1, 32]),\n",
       "  ('CGGTCTATC', [1, 31]),\n",
       "  ('GCGGTCTAT', [1, 30]),\n",
       "  ('GGCGGTCTA', [1, 29]),\n",
       "  ('AGGCGGTCT', [1, 28]),\n",
       "  ('AAGGCGGTC', [1, 27]),\n",
       "  ('GAAGGCGGT', [1, 26]),\n",
       "  ('GGAAGGCGG', [1, 25]),\n",
       "  ('TGGAAGGCG', [1, 24]),\n",
       "  ('GTGGAAGGC', [1, 23]),\n",
       "  ('CGTGGAAGG', [1, 22]),\n",
       "  ('TCGTGGAAG', [1, 21]),\n",
       "  ('TTCGTGGAA', [1, 20]),\n",
       "  ('ATTCGTGGA', [1, 19]),\n",
       "  ('AATTCGTGG', [1, 18]),\n",
       "  ('GAATTCGTG', [1, 17]),\n",
       "  ('TGAATTCGT', [1, 16]),\n",
       "  ('GTGAATTCG', [1, 15]),\n",
       "  ('CGTGAATTC', [1, 14]),\n",
       "  ('GCGTGAATT', [1, 13]),\n",
       "  ('GGCGTGAAT', [1, 12]),\n",
       "  ('CGGCGTGAA', [1, 11]),\n",
       "  ('GCGGCGTGA', [1, 10]),\n",
       "  ('CGCGGCGTG', [1, 9]),\n",
       "  ('TCGCGGCGT', [1, 8]),\n",
       "  ('CTCGCGGCG', [1, 7]),\n",
       "  ('CCTCGCGGC', [1, 6]),\n",
       "  ('TCCTCGCGG', [1, 5]),\n",
       "  ('TTCCTCGCG', [1, 4]),\n",
       "  ('GTTCCTCGC', [1, 3]),\n",
       "  ('GGTTCCTCG', [1, 2]),\n",
       "  ('CGGTTCCTC', [1, 1]),\n",
       "  ('ACGGTTCCT', [1, 0])]}"
      ]
     },
     "execution_count": 11,
     "metadata": {},
     "output_type": "execute_result"
    }
   ],
   "source": [
    "x1[4].kmer_info"
   ]
  },
  {
   "cell_type": "code",
   "execution_count": 12,
   "metadata": {},
   "outputs": [],
   "source": [
    "x2 = orite.filter_region_list_by_kmer_occurence(x1, 3)"
   ]
  },
  {
   "cell_type": "code",
   "execution_count": 13,
   "metadata": {},
   "outputs": [
    {
     "data": {
      "text/plain": [
       "{7: [], 8: [], 9: []}"
      ]
     },
     "execution_count": 13,
     "metadata": {},
     "output_type": "execute_result"
    }
   ],
   "source": [
    "x2[4].kmer_info"
   ]
  },
  {
   "cell_type": "code",
   "execution_count": 14,
   "metadata": {},
   "outputs": [],
   "source": [
    "x3 = orite.filter_empty_kmer_regions(x2)"
   ]
  },
  {
   "cell_type": "code",
   "execution_count": 15,
   "metadata": {},
   "outputs": [
    {
     "data": {
      "text/plain": [
       "69"
      ]
     },
     "execution_count": 15,
     "metadata": {},
     "output_type": "execute_result"
    }
   ],
   "source": [
    "len(x3)"
   ]
  },
  {
   "cell_type": "code",
   "execution_count": 16,
   "metadata": {},
   "outputs": [
    {
     "data": {
      "image/png": "[encoded data removed]",
      "text/plain": [
       "<Figure size 2880x720 with 1 Axes>"
      ]
     },
     "metadata": {
      "needs_background": "light"
     },
     "output_type": "display_data"
    }
   ],
   "source": [
    "orite.plot_region_list(x3, max_cgc, rotated=True)"
   ]
  },
  {
   "cell_type": "code",
   "execution_count": 17,
   "metadata": {},
   "outputs": [
    {
     "data": {
      "text/plain": [
       "69"
      ]
     },
     "execution_count": 17,
     "metadata": {},
     "output_type": "execute_result"
    }
   ],
   "source": [
    "x4 = orite.filter_regions_by_length(x3, 50)\n",
    "len(x4)"
   ]
  },
  {
   "cell_type": "code",
   "execution_count": 18,
   "metadata": {},
   "outputs": [
    {
     "name": "stdout",
     "output_type": "stream",
     "text": [
      "3158\n",
      "2606\n",
      "663\n",
      "1522\n",
      "363\n",
      "768\n",
      "296\n",
      "129\n",
      "1048\n",
      "442\n",
      "321\n",
      "249\n",
      "601\n",
      "344\n",
      "260\n",
      "175\n",
      "213\n",
      "432\n",
      "953\n",
      "318\n",
      "121\n",
      "152\n",
      "506\n",
      "459\n",
      "228\n",
      "271\n",
      "544\n",
      "139\n",
      "251\n",
      "505\n",
      "1449\n",
      "303\n",
      "80\n",
      "306\n",
      "462\n",
      "500\n",
      "437\n",
      "308\n",
      "653\n",
      "598\n",
      "170\n",
      "480\n",
      "291\n",
      "212\n",
      "239\n",
      "450\n",
      "445\n",
      "438\n",
      "187\n",
      "398\n",
      "381\n",
      "191\n",
      "375\n",
      "489\n",
      "456\n",
      "542\n",
      "463\n",
      "215\n",
      "344\n",
      "488\n",
      "349\n",
      "401\n",
      "305\n",
      "2606\n",
      "2626\n",
      "122\n",
      "447\n",
      "241\n",
      "436\n"
     ]
    }
   ],
   "source": [
    "for region in x3:\n",
    "    print(region.length)"
   ]
  },
  {
   "cell_type": "code",
   "execution_count": null,
   "metadata": {},
   "outputs": [],
   "source": []
  }
 ],
 "metadata": {
  "kernelspec": {
   "display_name": "Python 3",
   "language": "python",
   "name": "python3"
  },
  "language_info": {
   "codemirror_mode": {
    "name": "ipython",
    "version": 3
   },
   "file_extension": ".py",
   "mimetype": "text/x-python",
   "name": "python",
   "nbconvert_exporter": "python",
   "pygments_lexer": "ipython3",
   "version": "3.6.8"
  }
 },
 "nbformat": 4,
 "nbformat_minor": 2
}
