{
 "cells": [
  {
   "cell_type": "code",
   "execution_count": 18,
   "metadata": {},
   "outputs": [],
   "source": [
    "import os\n",
    "from Bio.Seq import Seq\n",
    "from Bio.SeqRecord import SeqRecord\n",
    "from Bio.SeqFeature import SeqFeature, FeatureLocation\n",
    "from Bio import SeqIO\n",
    "import re\n",
    "import oritelib as orite\n",
    "import matplotlib.pyplot as plt"
   ]
  },
  {
   "cell_type": "code",
   "execution_count": 41,
   "metadata": {},
   "outputs": [
    {
     "name": "stdout",
     "output_type": "stream",
     "text": [
      "575115\n"
     ]
    }
   ],
   "source": [
    "'''\n",
    "Input: file path to a genbank file\n",
    "Output: a tuple where the first element contains a list of tuples of the non-coding regions on both strands, \n",
    "the second being a list of the same regions but with each base position as an element in the list.\n",
    "\n",
    "The function utilizes various other functions contained in oritelib.\n",
    "'''\n",
    "\n",
    "def genbank_to_non_coding_intervals(file_path):\n",
    "    \n",
    "    raw_p = raw_positions_strings_from_genbank(file_path)\n",
    "    \n",
    "    raw_plus, raw_neg = split_strands(raw_p)\n",
    "    \n",
    "    \n",
    "    valid_plus = make_into_valid_pos(raw_plus)\n",
    "    valid_neg = make_into_valid_pos(raw_neg)\n",
    "\n",
    "    \n",
    "    non_coding_plus = get_non_coding_intervals(valid_plus)\n",
    "    non_coding_neg = get_non_coding_intervals(valid_neg)\n",
    "    \n",
    "    \n",
    "    \n",
    "    true_nc_positions = get_true_nc_positions(non_coding_plus, non_coding_neg)\n",
    "    true_nc_intervals = position_list_to_intervals(true_nc_positions)\n",
    "    \n",
    "    \n",
    "    \n",
    "    \n",
    "    \n",
    "    return true_nc_intervals, true_nc_positions\n"
   ]
  },
  {
   "cell_type": "code",
   "execution_count": 30,
   "metadata": {},
   "outputs": [],
   "source": [
    "'''\n",
    "Input two lists of non-coding regions. \n",
    "Output set of all true non-coding positions\n",
    "\n",
    "HELPER FUNCTION 1: Input a list of intervals, output a set of all positions in intervals\n",
    "\n",
    "'''\n",
    "def interval_list_to_position_set(interval_list):\n",
    "    pos_set = set()\n",
    "    \n",
    "    for interval in interval_list:\n",
    "        start = interval[0]\n",
    "        stop = interval[1]\n",
    "        \n",
    "        interval_range = list(range(start,stop+1))\n",
    "        pos_set.update(interval_range)\n",
    "        \n",
    "    return pos_set\n",
    "\n",
    "        "
   ]
  },
  {
   "cell_type": "code",
   "execution_count": 31,
   "metadata": {},
   "outputs": [],
   "source": [
    "def get_true_nc_positions(nc_plus_intervals, nc_neg_intervals):\n",
    "    nc_plus_set = interval_list_to_position_set(nc_plus_intervals)\n",
    "    nc_neg_set = interval_list_to_position_set(nc_neg_intervals)\n",
    "    \n",
    "    intersection_set = nc_plus_set.intersection(nc_neg_set)\n",
    "    intersect_set_list = list(intersection_set)\n",
    "    intersect_set_list.sort()\n",
    "    return intersect_set_list\n",
    "    \n",
    "    "
   ]
  },
  {
   "cell_type": "code",
   "execution_count": 34,
   "metadata": {},
   "outputs": [],
   "source": [
    "def position_list_to_intervals(pos_list):\n",
    "    \n",
    "    crap_bag = []\n",
    "    \n",
    "    current_start = pos_list[0]\n",
    "    current_stop = -1\n",
    "    \n",
    "    for i in  range(1, len(pos_list)-1):\n",
    "        \n",
    "        if pos_list[i-1] +1 == pos_list[i] and  pos_list[i]+1!=pos_list[i+1]:\n",
    "            current_stop = pos_list[i]\n",
    "            \n",
    "            crap_bag.append((current_start, current_stop))\n",
    "            \n",
    "            current_start = pos_list[i+1]\n",
    "        \n",
    "        if pos_list[i-1] +1 != pos_list[i] and  pos_list[i]+1==pos_list[i+1]:\n",
    "            current_start = pos_list[i]\n",
    "            \n",
    "    print(i)\n",
    "    if pos_list[i+1] == current_start+1:\n",
    "        current_stop = pos_list[i+1]\n",
    "        crap_bag.append((current_start, current_stop))\n",
    "    \n",
    "    \n",
    "    \n",
    "    return crap_bag\n",
    "            \n",
    "        \n",
    "        \n",
    "        \n",
    "    \n",
    "    \n",
    "    \n",
    "    \n",
    "    "
   ]
  },
  {
   "cell_type": "code",
   "execution_count": 39,
   "metadata": {},
   "outputs": [],
   "source": [
    "def interval_list_to_range_list(interval_list):\n",
    "\n",
    "    crap_list = []\n",
    "    for touple in interval_list:\n",
    "        print(touple)\n",
    "        x = list(range(touple[0], touple[1]+1))\n",
    "        crap_list.append(x)\n",
    "        \n",
    "    return crap_list \n",
    "\n"
   ]
  },
  {
   "cell_type": "code",
   "execution_count": 45,
   "metadata": {},
   "outputs": [],
   "source": [
    "recs = [rec for rec in SeqIO.parse(\"test_data/eco_genbank.gb\", \"genbank\")]"
   ]
  },
  {
   "cell_type": "code",
   "execution_count": 46,
   "metadata": {},
   "outputs": [
    {
     "name": "stdout",
     "output_type": "stream",
     "text": [
      "4641652\n"
     ]
    }
   ],
   "source": [
    "for rec in recs:\n",
    "    print(len(rec.seq))"
   ]
  },
  {
   "cell_type": "code",
   "execution_count": null,
   "metadata": {},
   "outputs": [],
   "source": []
  }
 ],
 "metadata": {
  "kernelspec": {
   "display_name": "Python 3",
   "language": "python",
   "name": "python3"
  },
  "language_info": {
   "codemirror_mode": {
    "name": "ipython",
    "version": 3
   },
   "file_extension": ".py",
   "mimetype": "text/x-python",
   "name": "python",
   "nbconvert_exporter": "python",
   "pygments_lexer": "ipython3",
   "version": "3.6.8"
  }
 },
 "nbformat": 4,
 "nbformat_minor": 2
}
