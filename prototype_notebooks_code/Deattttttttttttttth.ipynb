{
 "cells": [
  {
   "cell_type": "code",
   "execution_count": 1,
   "metadata": {},
   "outputs": [],
   "source": [
    "import oritelib as orite \n",
    "import matplotlib.pyplot as plt\n",
    "import numpy as np"
   ]
  },
  {
   "cell_type": "code",
   "execution_count": 2,
   "metadata": {},
   "outputs": [
    {
     "name": "stdout",
     "output_type": "stream",
     "text": [
      "last coding interval:  (4640941, 4641628)\n",
      "last non-coding interval:  (4641629, 4641651)\n",
      "last coding interval:  (4639589, 4640306)\n",
      "last non-coding interval:  (4640307, 4641651)\n",
      "death\n"
     ]
    }
   ],
   "source": [
    "true_nc_intervals, true_nc_positions, non_coding_plus, non_coding_neg = orite.genbank_to_non_coding_intervals(\"test_data/eco_k12.gb\")"
   ]
  },
  {
   "cell_type": "code",
   "execution_count": 3,
   "metadata": {},
   "outputs": [
    {
     "data": {
      "text/plain": [
       "(4641629, 4641651)"
      ]
     },
     "execution_count": 3,
     "metadata": {},
     "output_type": "execute_result"
    }
   ],
   "source": [
    "true_nc_intervals[len(true_nc_intervals)-1]"
   ]
  },
  {
   "cell_type": "code",
   "execution_count": 4,
   "metadata": {},
   "outputs": [
    {
     "data": {
      "text/plain": [
       "(4641629, 4641651)"
      ]
     },
     "execution_count": 4,
     "metadata": {},
     "output_type": "execute_result"
    }
   ],
   "source": [
    "non_coding_plus[len(non_coding_plus)-1]"
   ]
  },
  {
   "cell_type": "code",
   "execution_count": 5,
   "metadata": {},
   "outputs": [
    {
     "data": {
      "text/plain": [
       "(4640307, 4641651)"
      ]
     },
     "execution_count": 5,
     "metadata": {},
     "output_type": "execute_result"
    }
   ],
   "source": [
    "non_coding_neg[len(non_coding_neg)-1]"
   ]
  },
  {
   "cell_type": "code",
   "execution_count": 6,
   "metadata": {},
   "outputs": [
    {
     "data": {
      "text/plain": [
       "[(4632671, 4632758),\n",
       " (4633087, 4633231),\n",
       " (4633746, 4633795),\n",
       " (4635311, 4635519),\n",
       " (4635995, 4636005),\n",
       " (4638121, 4638176),\n",
       " (4639531, 4639588),\n",
       " (4640307, 4640400),\n",
       " (4640543, 4640940),\n",
       " (4641629, 4641651)]"
      ]
     },
     "execution_count": 6,
     "metadata": {},
     "output_type": "execute_result"
    }
   ],
   "source": [
    "true_nc_intervals[len(true_nc_intervals)-10:]"
   ]
  },
  {
   "cell_type": "code",
   "execution_count": 7,
   "metadata": {},
   "outputs": [
    {
     "data": {
      "text/plain": [
       "[4640864,\n",
       " 4640865,\n",
       " 4640866,\n",
       " 4640867,\n",
       " 4640868,\n",
       " 4640869,\n",
       " 4640870,\n",
       " 4640871,\n",
       " 4640872,\n",
       " 4640873,\n",
       " 4640874,\n",
       " 4640875,\n",
       " 4640876,\n",
       " 4640877,\n",
       " 4640878,\n",
       " 4640879,\n",
       " 4640880,\n",
       " 4640881,\n",
       " 4640882,\n",
       " 4640883,\n",
       " 4640884,\n",
       " 4640885,\n",
       " 4640886,\n",
       " 4640887,\n",
       " 4640888,\n",
       " 4640889,\n",
       " 4640890,\n",
       " 4640891,\n",
       " 4640892,\n",
       " 4640893,\n",
       " 4640894,\n",
       " 4640895,\n",
       " 4640896,\n",
       " 4640897,\n",
       " 4640898,\n",
       " 4640899,\n",
       " 4640900,\n",
       " 4640901,\n",
       " 4640902,\n",
       " 4640903,\n",
       " 4640904,\n",
       " 4640905,\n",
       " 4640906,\n",
       " 4640907,\n",
       " 4640908,\n",
       " 4640909,\n",
       " 4640910,\n",
       " 4640911,\n",
       " 4640912,\n",
       " 4640913,\n",
       " 4640914,\n",
       " 4640915,\n",
       " 4640916,\n",
       " 4640917,\n",
       " 4640918,\n",
       " 4640919,\n",
       " 4640920,\n",
       " 4640921,\n",
       " 4640922,\n",
       " 4640923,\n",
       " 4640924,\n",
       " 4640925,\n",
       " 4640926,\n",
       " 4640927,\n",
       " 4640928,\n",
       " 4640929,\n",
       " 4640930,\n",
       " 4640931,\n",
       " 4640932,\n",
       " 4640933,\n",
       " 4640934,\n",
       " 4640935,\n",
       " 4640936,\n",
       " 4640937,\n",
       " 4640938,\n",
       " 4640939,\n",
       " 4640940,\n",
       " 4641629,\n",
       " 4641630,\n",
       " 4641631,\n",
       " 4641632,\n",
       " 4641633,\n",
       " 4641634,\n",
       " 4641635,\n",
       " 4641636,\n",
       " 4641637,\n",
       " 4641638,\n",
       " 4641639,\n",
       " 4641640,\n",
       " 4641641,\n",
       " 4641642,\n",
       " 4641643,\n",
       " 4641644,\n",
       " 4641645,\n",
       " 4641646,\n",
       " 4641647,\n",
       " 4641648,\n",
       " 4641649,\n",
       " 4641650,\n",
       " 4641651]"
      ]
     },
     "execution_count": 7,
     "metadata": {},
     "output_type": "execute_result"
    }
   ],
   "source": [
    "true_nc_positions[len(true_nc_positions)-100:]"
   ]
  },
  {
   "cell_type": "code",
   "execution_count": 8,
   "metadata": {},
   "outputs": [],
   "source": [
    "x = [(10,20),(30,40),(50,60)]\n",
    "y = [(15,20),(35,40),(55,60)]"
   ]
  },
  {
   "cell_type": "code",
   "execution_count": 9,
   "metadata": {},
   "outputs": [],
   "source": [
    "x_set = orite.interval_list_to_position_set(x)"
   ]
  },
  {
   "cell_type": "code",
   "execution_count": 10,
   "metadata": {},
   "outputs": [],
   "source": [
    "y_set = orite.interval_list_to_position_set(y)"
   ]
  },
  {
   "cell_type": "code",
   "execution_count": 11,
   "metadata": {},
   "outputs": [
    {
     "data": {
      "text/plain": [
       "{10,\n",
       " 11,\n",
       " 12,\n",
       " 13,\n",
       " 14,\n",
       " 15,\n",
       " 16,\n",
       " 17,\n",
       " 18,\n",
       " 19,\n",
       " 20,\n",
       " 30,\n",
       " 31,\n",
       " 32,\n",
       " 33,\n",
       " 34,\n",
       " 35,\n",
       " 36,\n",
       " 37,\n",
       " 38,\n",
       " 39,\n",
       " 40,\n",
       " 50,\n",
       " 51,\n",
       " 52,\n",
       " 53,\n",
       " 54,\n",
       " 55,\n",
       " 56,\n",
       " 57,\n",
       " 58,\n",
       " 59,\n",
       " 60}"
      ]
     },
     "execution_count": 11,
     "metadata": {},
     "output_type": "execute_result"
    }
   ],
   "source": [
    "x_set"
   ]
  },
  {
   "cell_type": "code",
   "execution_count": 12,
   "metadata": {},
   "outputs": [
    {
     "data": {
      "text/plain": [
       "{15, 16, 17, 18, 19, 20, 35, 36, 37, 38, 39, 40, 55, 56, 57, 58, 59, 60}"
      ]
     },
     "execution_count": 12,
     "metadata": {},
     "output_type": "execute_result"
    }
   ],
   "source": [
    "y_set"
   ]
  },
  {
   "cell_type": "code",
   "execution_count": 13,
   "metadata": {},
   "outputs": [
    {
     "data": {
      "text/plain": [
       "[15, 16, 17, 18, 19, 20, 35, 36, 37, 38, 39, 40, 55, 56, 57, 58, 59, 60]"
      ]
     },
     "execution_count": 13,
     "metadata": {},
     "output_type": "execute_result"
    }
   ],
   "source": [
    "orite.get_true_nc_positions(x,y)"
   ]
  },
  {
   "cell_type": "code",
   "execution_count": null,
   "metadata": {},
   "outputs": [],
   "source": []
  },
  {
   "cell_type": "code",
   "execution_count": null,
   "metadata": {},
   "outputs": [],
   "source": []
  }
 ],
 "metadata": {
  "kernelspec": {
   "display_name": "Python 3",
   "language": "python",
   "name": "python3"
  },
  "language_info": {
   "codemirror_mode": {
    "name": "ipython",
    "version": 3
   },
   "file_extension": ".py",
   "mimetype": "text/x-python",
   "name": "python",
   "nbconvert_exporter": "python",
   "pygments_lexer": "ipython3",
   "version": "3.6.8"
  }
 },
 "nbformat": 4,
 "nbformat_minor": 2
}
