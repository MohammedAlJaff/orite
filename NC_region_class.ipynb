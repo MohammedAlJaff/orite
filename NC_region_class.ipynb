{
 "cells": [
  {
   "cell_type": "code",
   "execution_count": 1,
   "metadata": {},
   "outputs": [],
   "source": [
    "import oritelib as orite \n",
    "import matplotlib.pyplot as plt\n",
    "import numpy as np"
   ]
  },
  {
   "cell_type": "code",
   "execution_count": 20,
   "metadata": {},
   "outputs": [],
   "source": [
    "class NC_region:\n",
    "    def __init__(self, start_stop_tuple):\n",
    "        self.start = start_stop_tuple[0]\n",
    "        self.stop = start_stop_tuple[1]\n",
    "        self.length = (self.stop - self.start) +1\n",
    "        \n",
    "    def add_sequence(self,string):\n",
    "        self.sequence = string\n",
    "        \n",
    "    def add_cgc_val(self,cgc_val):\n",
    "        self.cgc_val = cgc_val\n",
    "        \n",
    "    def add_gc_val(self,gc_val):    \n",
    "        self.gc_val = gc_val"
   ]
  },
  {
   "cell_type": "code",
   "execution_count": null,
   "metadata": {},
   "outputs": [],
   "source": []
  },
  {
   "cell_type": "code",
   "execution_count": 28,
   "metadata": {},
   "outputs": [],
   "source": [
    "t1 = (40,60)\n",
    "nc1 = NC_region(t1)"
   ]
  },
  {
   "cell_type": "code",
   "execution_count": null,
   "metadata": {},
   "outputs": [],
   "source": []
  },
  {
   "cell_type": "code",
   "execution_count": null,
   "metadata": {},
   "outputs": [],
   "source": []
  },
  {
   "cell_type": "code",
   "execution_count": 35,
   "metadata": {},
   "outputs": [],
   "source": [
    "cgc_curve = np.array(list(range(100)))\n",
    "\n",
    "\n",
    "\n",
    "\n",
    "def calc_score_for_NC_region(cgc_curve, nc_obj):\n",
    "    inter = list(range(nc_obj.start, nc_obj.stop+1))\n",
    "    region_cgc_vals = cgc_curve[inter]\n",
    "    \n",
    "    score= np.average(region_cgc_vals)\n",
    "    \n",
    "    nc_obj.add_cgc_val(score)\n",
    "    \n",
    "\n",
    "def add_sequence_to_region(seq, nc_obj):\n",
    "    nc_obj.add_sequence(seq[nc_obj.start:nc_obj.stop +1])\n",
    "\n",
    "\n",
    "\n"
   ]
  },
  {
   "cell_type": "code",
   "execution_count": 38,
   "metadata": {},
   "outputs": [],
   "source": [
    "seq_dummy = str(list(range(100)))"
   ]
  },
  {
   "cell_type": "code",
   "execution_count": 39,
   "metadata": {},
   "outputs": [],
   "source": [
    "add_sequence_to_region(seq_dummy, nc1)\n"
   ]
  },
  {
   "cell_type": "code",
   "execution_count": 40,
   "metadata": {},
   "outputs": [
    {
     "data": {
      "text/plain": [
       "[40,\n",
       " 41,\n",
       " 42,\n",
       " 43,\n",
       " 44,\n",
       " 45,\n",
       " 46,\n",
       " 47,\n",
       " 48,\n",
       " 49,\n",
       " 50,\n",
       " 51,\n",
       " 52,\n",
       " 53,\n",
       " 54,\n",
       " 55,\n",
       " 56,\n",
       " 57,\n",
       " 58,\n",
       " 59,\n",
       " 60]"
      ]
     },
     "execution_count": 40,
     "metadata": {},
     "output_type": "execute_result"
    }
   ],
   "source": [
    "nc1.sequence\n"
   ]
  },
  {
   "cell_type": "code",
   "execution_count": null,
   "metadata": {},
   "outputs": [],
   "source": []
  }
 ],
 "metadata": {
  "kernelspec": {
   "display_name": "Python 3",
   "language": "python",
   "name": "python3"
  },
  "language_info": {
   "codemirror_mode": {
    "name": "ipython",
    "version": 3
   },
   "file_extension": ".py",
   "mimetype": "text/x-python",
   "name": "python",
   "nbconvert_exporter": "python",
   "pygments_lexer": "ipython3",
   "version": "3.6.8"
  }
 },
 "nbformat": 4,
 "nbformat_minor": 2
}
